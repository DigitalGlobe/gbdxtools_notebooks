{
 "cells": [
  {
   "cell_type": "code",
   "execution_count": 1,
   "metadata": {
    "collapsed": true
   },
   "outputs": [],
   "source": [
    "import os\n",
    "os.environ[\"GBDX_THREADS\"] = \"64\""
   ]
  },
  {
   "cell_type": "code",
   "execution_count": 2,
   "metadata": {
    "collapsed": true
   },
   "outputs": [],
   "source": [
    "import os.path\n",
    "import re\n",
    "from itertools import groupby, chain, cycle, product as cartesian_prod\n",
    "from collections import Counter\n",
    "\n",
    "from shapely.geometry import shape, box, Polygon, MultiPolygon\n",
    "import numpy as np\n",
    "from tqdm import tqdm_notebook as tqdm\n",
    "from rtree.index import Index as SpatialIndex\n",
    "\n",
    "from gbdxtools.vectors import Vectors\n",
    "from gbdxtools import TmsImage\n",
    "\n",
    "MAPS_API_KEY = \"pk.eyJ1IjoiZGlnaXRhbGdsb2JlIiwiYSI6ImNqMXkyZXZsODAwYWszMmsyM3lvZHBzMWsifQ.EYqlvq6QWczWsvrEDDTf7g\"\n",
    "\n",
    "boundary = box(-97.803125,30.230669,-97.667427,30.306355) # Austin, TX\n",
    "boundary = box(-74.047422,40.686561,-73.942108,40.730804) # Manhattan\n",
    "tms = TmsImage(access_token=MAPS_API_KEY, zoom=18)\n",
    "tms_region = tms[boundary]"
   ]
  },
  {
   "cell_type": "code",
   "execution_count": 3,
   "metadata": {},
   "outputs": [
    {
     "data": {
      "application/vnd.jupyter.widget-view+json": {
       "model_id": "59c1889c24a64236a6db25f5de852d48"
      }
     },
     "metadata": {},
     "output_type": "display_data"
    },
    {
     "name": "stdout",
     "output_type": "stream",
     "text": [
      "\n"
     ]
    }
   ],
   "source": [
    "from gbdxtools import Interface\n",
    "gbdx = Interface()\n",
    "\n",
    "osm_data = gbdx.vectors.query(shape(tms_region).wkt, query=\"item_type:* AND ingest_source:OSM\", index=\"vector-osm-*\")\n",
    "osm_index = SpatialIndex()\n",
    "for idx, rec in tqdm(enumerate(osm_data), total=len(osm_data)):\n",
    "    osm_index.add(idx, shape(rec[\"geometry\"]).bounds, rec)"
   ]
  },
  {
   "cell_type": "code",
   "execution_count": 4,
   "metadata": {
    "collapsed": true
   },
   "outputs": [],
   "source": [
    "item_types = set(chain(*[rec[\"properties\"][\"item_type\"] for rec in osm_data]))"
   ]
  },
  {
   "cell_type": "code",
   "execution_count": 5,
   "metadata": {
    "collapsed": true,
    "scrolled": false
   },
   "outputs": [],
   "source": [
    "with open(\"nominatim.txt\") as f:\n",
    "    categories = [[s.strip() for s in re.split(\"\\|+\", l) if s.strip() != \"\"] for l in f.readlines()]\n",
    "clean_categories = [cat[:3] for cat in categories if cat[-1] == \"N\" and cat[-2] == \"-\"]\n",
    "keyfn = lambda rec: rec[1]\n",
    "cats = {key: {(v[1], v[2]):v[0] for v in val} for key, val in groupby(sorted(clean_categories, key=keyfn), key=keyfn)}\n",
    "# selected relevant \n",
    "groups = [\"building\", \"natural\", \"man_made\", \"leisure\", \"historic\", \"aeroway\", \"landuse\", \"waterway\", \"highway\"]\n",
    "basis = {v:k for k,v in enumerate(list(sorted(reduce(lambda s,e: s + cats[e].values(), groups, []))))}\n",
    "lut = {}\n",
    "for grp in groups:\n",
    "    lut.update(cats[grp])\n",
    "    "
   ]
  },
  {
   "cell_type": "code",
   "execution_count": 6,
   "metadata": {
    "collapsed": true
   },
   "outputs": [],
   "source": [
    "def extract_nominatim(rec):\n",
    "    return [lut[key] for key in rec[\"properties\"][\"attributes\"].items() if key in lut]\n",
    "\n",
    "def lookup_basis_vector(region):\n",
    "    g = shape(region)\n",
    "    observed_types =  Counter(chain(*[extract_nominatim(rec.object) \n",
    "                                      for rec in osm_index.intersection(g.bounds, objects=True)\n",
    "                                      if shape(rec.object[\"geometry\"]).intersects(g)]))\n",
    "    return np.asarray([observed_types.get(key, 0) for key in basis]).astype(np.uint32)"
   ]
  },
  {
   "cell_type": "code",
   "execution_count": 7,
   "metadata": {},
   "outputs": [
    {
     "name": "stderr",
     "output_type": "stream",
     "text": [
      "Using TensorFlow backend.\n"
     ]
    }
   ],
   "source": [
    "from resnet import ResnetBuilder"
   ]
  },
  {
   "cell_type": "code",
   "execution_count": 8,
   "metadata": {
    "collapsed": true
   },
   "outputs": [],
   "source": [
    "model = ResnetBuilder.build_resnet_34((3, 301, 301), len(basis))\n",
    "model.compile(loss='categorical_crossentropy',\n",
    "              optimizer='adam',\n",
    "              metrics=['accuracy'])"
   ]
  },
  {
   "cell_type": "code",
   "execution_count": 9,
   "metadata": {},
   "outputs": [
    {
     "data": {
      "text/plain": [
       "59266"
      ]
     },
     "execution_count": 9,
     "metadata": {},
     "output_type": "execute_result"
    }
   ],
   "source": [
    "len(osm_data)"
   ]
  },
  {
   "cell_type": "code",
   "execution_count": 10,
   "metadata": {
    "scrolled": false
   },
   "outputs": [
    {
     "data": {
      "application/vnd.jupyter.widget-view+json": {
       "model_id": "8715ca751d0b437c9e4c0bebc8ce4fb5"
      }
     },
     "metadata": {},
     "output_type": "display_data"
    },
    {
     "name": "stdout",
     "output_type": "stream",
     "text": [
      "\n"
     ]
    }
   ],
   "source": [
    "# TODO: lookup from model\n",
    "row_chunk = 301\n",
    "col_chunk = 301\n",
    "\n",
    "# NOTE: Dropping far boundary, should fix\n",
    "row_lims = xrange(row_chunk, tms_region.shape[1], row_chunk)\n",
    "col_lims = xrange(col_chunk, tms_region.shape[2], col_chunk)\n",
    "\n",
    "training_data = []\n",
    "for maxy, maxx in tqdm(cartesian_prod(row_lims, col_lims),\n",
    "                       total=len(row_lims)*len(col_lims)):\n",
    "    region = tms_region[:, (maxy-row_chunk):maxy, (maxx-col_chunk):maxx]\n",
    "    training_data.append((region, lookup_basis_vector(region)))"
   ]
  },
  {
   "cell_type": "code",
   "execution_count": 11,
   "metadata": {
    "collapsed": true
   },
   "outputs": [],
   "source": [
    "def training_gen(data, batch_size=32):\n",
    "    while True:\n",
    "        input_batch = []\n",
    "        output_batch = []\n",
    "        source = cycle(data)\n",
    "        for i in xrange(batch_size):\n",
    "            img, cat = next(source)\n",
    "            input_batch.append(np.rollaxis(img.read(), 0, 3))\n",
    "            output_batch.append(cat)\n",
    "        input_batch = np.stack(input_batch)\n",
    "        output_batch = np.stack(output_batch)\n",
    "        yield (input_batch, output_batch)"
   ]
  },
  {
   "cell_type": "code",
   "execution_count": 12,
   "metadata": {
    "scrolled": false
   },
   "outputs": [
    {
     "name": "stdout",
     "output_type": "stream",
     "text": [
      "Epoch 1/4\n",
      "74/74 [==============================] - 227s - loss: 30.6363 - acc: 0.6959   \n",
      "Epoch 2/4\n",
      "74/74 [==============================] - 132s - loss: 23.6869 - acc: 0.9050   \n",
      "Epoch 3/4\n",
      "74/74 [==============================] - 134s - loss: 23.5535 - acc: 0.9092   \n",
      "Epoch 4/4\n",
      "74/74 [==============================] - 130s - loss: 23.4887 - acc: 0.9117   \n"
     ]
    }
   ],
   "source": [
    "h = model.fit_generator(training_gen(training_data), int(len(training_data)/32), epochs=4)"
   ]
  },
  {
   "cell_type": "code",
   "execution_count": 15,
   "metadata": {
    "collapsed": true
   },
   "outputs": [],
   "source": [
    "test_data = next(training_gen(training_data))"
   ]
  },
  {
   "cell_type": "code",
   "execution_count": 13,
   "metadata": {
    "collapsed": true
   },
   "outputs": [],
   "source": [
    "result = model.evaluate_generator(training_gen(training_data), 10)"
   ]
  },
  {
   "cell_type": "code",
   "execution_count": 41,
   "metadata": {},
   "outputs": [
    {
     "data": {
      "text/plain": [
       "[32.633122253417966, 0.9375]"
      ]
     },
     "execution_count": 41,
     "metadata": {},
     "output_type": "execute_result"
    }
   ],
   "source": [
    "result"
   ]
  },
  {
   "cell_type": "code",
   "execution_count": 16,
   "metadata": {
    "collapsed": true
   },
   "outputs": [],
   "source": [
    "prediction = model.predict_on_batch(test_data[0])"
   ]
  },
  {
   "cell_type": "code",
   "execution_count": 17,
   "metadata": {},
   "outputs": [
    {
     "data": {
      "application/vnd.jupyter.widget-view+json": {
       "model_id": "849b9173bdfb471184ebb79d332ef361"
      }
     },
     "metadata": {},
     "output_type": "display_data"
    }
   ],
   "source": [
    "import matplotlib.pyplot as plt\n",
    "import ipywidgets as widgets\n",
    "\n",
    "@widgets.interact(idx=widgets.IntSlider(min=0, max=31))\n",
    "def plot_compare(idx):\n",
    "    plt.figure(figsize=(12, 6))\n",
    "    plt.subplot(1, 2, 1)\n",
    "    plt.plot(prediction[idx])\n",
    "    plt.subplot(1, 2, 2)\n",
    "    plt.plot(test_data[1][idx])\n",
    "    plt.show()"
   ]
  },
  {
   "cell_type": "code",
   "execution_count": 42,
   "metadata": {},
   "outputs": [
    {
     "data": {
      "text/plain": [
       "array([  1.67201677e-06,   1.31542220e-06,   1.83119573e-06,\n",
       "         3.19966739e-06,   1.46369973e-06,   1.90543733e-06,\n",
       "         1.06112850e-06,   1.38313862e-06,   2.08316169e-06,\n",
       "         2.08774190e-06,   4.66649226e-07,   1.04540777e-06,\n",
       "         2.42854867e-06,   8.10807762e-07,   4.56580371e-01,\n",
       "         4.07496125e-01,   4.50640619e-06,   2.26137786e-06,\n",
       "         2.20196807e-06,   7.56107738e-07,   1.25965755e-06,\n",
       "         1.03619561e-06,   1.83473026e-06,   1.22044082e-06,\n",
       "         3.15752663e-06,   8.03252192e-07,   1.30945932e-06,\n",
       "         8.44791145e-07,   3.16882074e-06,   3.53477458e-06,\n",
       "         5.56500027e-07,   2.43677323e-06,   6.47734396e-07,\n",
       "         2.17118554e-06,   1.38420205e-06,   3.19855712e-06,\n",
       "         9.74881686e-07,   1.27624651e-06,   2.07351513e-06,\n",
       "         1.08599727e-06,   1.06273069e-06,   1.46200193e-06,\n",
       "         5.88018338e-07,   8.55151313e-07,   3.27587668e-06,\n",
       "         1.20928030e-06,   1.68013526e-06,   1.34460947e-06,\n",
       "         1.14904424e-06,   3.98520388e-06,   6.38220911e-07,\n",
       "         2.23564166e-06,   5.48907792e-07,   2.26267866e-06,\n",
       "         2.68226381e-06,   1.44553826e-06,   2.44236844e-06,\n",
       "         1.17797242e-06,   1.20547247e-06,   1.73477986e-06,\n",
       "         1.57451188e-06,   3.02251351e-06,   3.41813347e-06,\n",
       "         5.81693371e-07,   2.39846599e-06,   1.59035460e-06,\n",
       "         2.78205971e-06,   8.90514286e-07,   6.32676574e-07,\n",
       "         1.25779923e-06,   9.90294325e-07,   1.43332636e-06,\n",
       "         7.78670938e-07,   1.59934348e-06,   1.58430998e-06,\n",
       "         2.25473241e-06,   7.03623527e-07,   1.63186928e-06,\n",
       "         3.02074727e-06,   8.71604470e-07,   7.91841956e-07,\n",
       "         2.52908967e-06,   1.58297780e-06,   1.99156170e-06,\n",
       "         7.76714387e-07,   2.31772219e-06,   1.07654955e-06,\n",
       "         5.41038219e-07,   1.33913488e-06,   7.56937482e-07,\n",
       "         2.74435706e-07,   1.70668955e-06,   7.90430988e-07,\n",
       "         1.39455835e-06,   2.31107379e-06,   7.65570803e-07,\n",
       "         1.48141373e-06,   1.72132729e-06,   2.18167565e-06,\n",
       "         8.26793951e-07,   7.39156917e-07,   1.34485572e-06,\n",
       "         8.55096630e-07,   1.90740434e-06,   9.58799660e-07,\n",
       "         3.60722242e-06,   1.73107298e-06,   1.42153203e-06,\n",
       "         2.26936936e-06,   1.29838213e-06,   1.15479838e-06,\n",
       "         1.21917526e-06,   1.20785933e-06,   8.30227918e-07,\n",
       "         2.47700646e-05,   1.38515554e-06,   1.58475416e-06,\n",
       "         2.90302978e-06,   2.49248114e-06,   2.49345840e-06,\n",
       "         2.04129424e-06,   9.62016315e-07,   2.37734662e-06,\n",
       "         1.11383633e-06,   1.07708763e-06,   1.35598943e-01,\n",
       "         2.56497083e-06,   8.14151122e-07,   1.85647252e-06,\n",
       "         1.89038383e-06,   1.83441011e-06,   1.29159957e-06,\n",
       "         2.99489056e-06,   5.67600978e-07,   3.41255736e-06,\n",
       "         7.07373147e-07,   1.31424099e-06,   3.15507918e-06,\n",
       "         1.83735506e-06,   6.82617497e-07,   1.86364957e-06,\n",
       "         1.83712359e-06,   1.52835150e-06,   1.30110914e-06,\n",
       "         1.09697567e-06,   7.11344796e-07,   2.13829935e-06,\n",
       "         1.08372319e-06,   8.10469885e-07,   1.90356404e-05,\n",
       "         6.38723861e-07,   1.23443726e-06,   1.07252947e-06,\n",
       "         1.21226867e-06,   8.93634819e-07,   1.52265443e-06,\n",
       "         2.07084736e-06,   3.38888844e-06,   7.25922916e-07,\n",
       "         8.21021956e-07,   2.12004511e-06,   9.97433176e-07,\n",
       "         3.55986663e-06,   1.69234079e-06,   1.20212030e-06,\n",
       "         1.61111109e-06,   2.82117730e-06,   2.19119238e-06,\n",
       "         1.52286930e-06,   7.72599492e-07,   7.29338353e-07,\n",
       "         8.87380850e-07,   1.20452910e-06,   8.45489126e-07,\n",
       "         1.08827601e-06,   1.35267624e-06,   1.29191483e-06,\n",
       "         3.88172066e-06,   9.89195655e-07,   4.92510026e-07], dtype=float32)"
      ]
     },
     "execution_count": 42,
     "metadata": {},
     "output_type": "execute_result"
    }
   ],
   "source": [
    "prediction[0]"
   ]
  },
  {
   "cell_type": "code",
   "execution_count": 49,
   "metadata": {},
   "outputs": [
    {
     "data": {
      "text/plain": [
       "{u'geometry': {u'coordinates': [[[-97.721041, 30.276972],\n",
       "    [-97.721018, 30.27686],\n",
       "    [-97.721108, 30.276845],\n",
       "    [-97.721147, 30.277026],\n",
       "    [-97.721056, 30.27704],\n",
       "    [-97.721041, 30.276972]]],\n",
       "  u'type': u'Polygon'},\n",
       " u'properties': {u'access': {u'groups': [u'_ALL_'], u'users': [u'_ALL_']},\n",
       "  u'attributes': {u'_osm_changeset': u'35519698',\n",
       "   u'_osm_copyright': u'\\xa9 OpenStreetMap contributors',\n",
       "   u'_osm_license': u'http://www.opendatacommons.org/licenses/odbl',\n",
       "   u'_osm_user_id': u'3341321',\n",
       "   u'_osm_user_name': u'jseppi_atxbuildings',\n",
       "   u'_osm_version': u'1',\n",
       "   u'building': u'yes',\n",
       "   u'height': u'4.6'},\n",
       "  u'format': u'OSM',\n",
       "  u'id': u'OSM-way-382131008',\n",
       "  u'ingest_attributes': {u'osm_database': u'osm', u'osm_host': u'173.50.1.53'},\n",
       "  u'ingest_date': u'2016-02-15T07:03:24.850Z',\n",
       "  u'ingest_source': u'OSM',\n",
       "  u'item_date': u'2015-11-22T23:13:53.000Z',\n",
       "  u'item_type': [u'Building'],\n",
       "  u'name': None,\n",
       "  u'original_crs': u'EPSG:4326',\n",
       "  u'source': None,\n",
       "  u'text': u'yes | 4.6'},\n",
       " u'type': u'Feature'}"
      ]
     },
     "execution_count": 49,
     "metadata": {},
     "output_type": "execute_result"
    }
   ],
   "source": [
    "osm_data[7]"
   ]
  },
  {
   "cell_type": "code",
   "execution_count": 50,
   "metadata": {},
   "outputs": [
    {
     "data": {
      "text/plain": [
       "['Airport',\n",
       " 'Allotment',\n",
       " 'Apartment Block',\n",
       " 'Archaeological Site',\n",
       " 'Basin',\n",
       " 'Battlefield',\n",
       " 'Bay',\n",
       " 'Beach',\n",
       " 'Beach Resort',\n",
       " 'Boat Ramp',\n",
       " 'Boatyard',\n",
       " 'Boundary Stone',\n",
       " 'Bridleway',\n",
       " 'Brownfield Land',\n",
       " 'Building',\n",
       " 'Building',\n",
       " 'Building Block',\n",
       " 'Building Entrance',\n",
       " 'Bunker',\n",
       " 'Bus Stop',\n",
       " 'Byway',\n",
       " 'Canal',\n",
       " 'Cape',\n",
       " 'Castle',\n",
       " 'Cave Entrance',\n",
       " 'Cemetery',\n",
       " 'Chapel',\n",
       " 'Church',\n",
       " 'City Hall',\n",
       " 'Cliff',\n",
       " 'Coastline',\n",
       " 'Commercial Area',\n",
       " 'Commercial Building',\n",
       " 'Common Land',\n",
       " 'Conservation',\n",
       " 'Construction',\n",
       " 'Cycle Path',\n",
       " 'Dam',\n",
       " 'Derelict Canal',\n",
       " 'Distance Marker',\n",
       " 'Ditch',\n",
       " 'Dock',\n",
       " 'Dormitory',\n",
       " 'Drain',\n",
       " 'Emergency Access Point',\n",
       " 'Faculty Building',\n",
       " 'Farm',\n",
       " 'Farm Building',\n",
       " 'Farmland',\n",
       " 'Farmyard',\n",
       " 'Fell',\n",
       " 'Fishing Area',\n",
       " 'Flats',\n",
       " 'Footpath',\n",
       " 'Ford',\n",
       " 'Forest',\n",
       " 'Garage',\n",
       " 'Garden',\n",
       " 'Gate',\n",
       " 'Glacier',\n",
       " 'Golf Course',\n",
       " 'Grass',\n",
       " 'Greenfield Land',\n",
       " 'Guided Bus Lane',\n",
       " 'Hackerspace',\n",
       " 'Hall',\n",
       " 'Heath',\n",
       " 'Highway under Construction',\n",
       " 'Hospital Building',\n",
       " 'Hotel',\n",
       " 'House',\n",
       " 'Ice Rink',\n",
       " 'Industrial Area',\n",
       " 'Industrial Building',\n",
       " 'Land',\n",
       " 'Landfill',\n",
       " 'Living Street',\n",
       " 'Manor',\n",
       " 'Marina',\n",
       " 'Marsh',\n",
       " 'Meadow',\n",
       " 'Memorial',\n",
       " 'Military Area',\n",
       " 'Mine',\n",
       " 'Miniature Golf',\n",
       " 'Minor Road',\n",
       " 'Monument',\n",
       " 'Moor',\n",
       " 'Motorway',\n",
       " 'Motorway Junction',\n",
       " 'Motorway Road',\n",
       " 'Motorway Services',\n",
       " 'Mud',\n",
       " 'Nature Reserve',\n",
       " 'Office Building',\n",
       " 'Park',\n",
       " 'Path',\n",
       " 'Peak',\n",
       " 'Pedestrian Way',\n",
       " 'Piste',\n",
       " 'Platform',\n",
       " 'Playground',\n",
       " 'Primary Road',\n",
       " 'Primary Road',\n",
       " 'Public Building',\n",
       " 'Quarry',\n",
       " 'Raceway',\n",
       " 'Railway',\n",
       " 'Railway Station',\n",
       " 'Rapids',\n",
       " 'Recreation Ground',\n",
       " 'Recreation Ground',\n",
       " 'Reef',\n",
       " 'Reservoir',\n",
       " 'Residential',\n",
       " 'Residential Area',\n",
       " 'Residential Building',\n",
       " 'Residential Road',\n",
       " 'Rest Area',\n",
       " 'Rest Stop',\n",
       " 'Retail',\n",
       " 'Retail Building',\n",
       " 'Ridge',\n",
       " 'River',\n",
       " 'Riverbank',\n",
       " 'Road',\n",
       " 'Rock',\n",
       " 'Ruin',\n",
       " 'Running Track',\n",
       " 'School Building',\n",
       " 'Scree',\n",
       " 'Scrub',\n",
       " 'Secondary Road',\n",
       " 'Secondary Road',\n",
       " 'Service Area',\n",
       " 'Service Road',\n",
       " 'Shoal',\n",
       " 'Shop',\n",
       " 'Slipway',\n",
       " 'Sports Centre',\n",
       " 'Sports Centre',\n",
       " 'Sports Pitch',\n",
       " 'Spring',\n",
       " 'Stadium',\n",
       " 'Stadium',\n",
       " 'Station',\n",
       " 'Steps',\n",
       " 'Stile',\n",
       " 'Store',\n",
       " 'Stream',\n",
       " 'Swimming Pool',\n",
       " 'Terrace',\n",
       " 'Tertiary Road',\n",
       " 'Tower',\n",
       " 'Track',\n",
       " 'Trail',\n",
       " 'Tree',\n",
       " 'Trunk Road',\n",
       " 'Trunk Road',\n",
       " 'Unclassified Road',\n",
       " 'University Building',\n",
       " 'Unsurfaced Road',\n",
       " 'Valley',\n",
       " 'Village Green',\n",
       " 'Vineyard',\n",
       " 'Volcano',\n",
       " 'Wadi',\n",
       " 'Water',\n",
       " 'Water Park',\n",
       " 'Water Point',\n",
       " 'Water well',\n",
       " 'Waterfall',\n",
       " 'Wayside Cross',\n",
       " 'Wayside Shrine',\n",
       " 'Weir',\n",
       " 'Wetland',\n",
       " 'Windmill',\n",
       " 'Wood',\n",
       " 'Wood',\n",
       " 'Wreck']"
      ]
     },
     "execution_count": 50,
     "metadata": {},
     "output_type": "execute_result"
    }
   ],
   "source": [
    "basis"
   ]
  },
  {
   "cell_type": "code",
   "execution_count": null,
   "metadata": {
    "collapsed": true
   },
   "outputs": [],
   "source": []
  }
 ],
 "metadata": {
  "kernelspec": {
   "display_name": "Python 2",
   "language": "python",
   "name": "python2"
  },
  "language_info": {
   "codemirror_mode": {
    "name": "ipython",
    "version": 2
   },
   "file_extension": ".py",
   "mimetype": "text/x-python",
   "name": "python",
   "nbconvert_exporter": "python",
   "pygments_lexer": "ipython2",
   "version": "2.7.13"
  }
 },
 "nbformat": 4,
 "nbformat_minor": 2
}
